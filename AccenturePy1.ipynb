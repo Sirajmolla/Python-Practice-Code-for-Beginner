{
 "cells": [
  {
   "cell_type": "code",
   "execution_count": 1,
   "metadata": {},
   "outputs": [],
   "source": [
    "# This is a single line comment..."
   ]
  },
  {
   "cell_type": "code",
   "execution_count": 2,
   "metadata": {},
   "outputs": [
    {
     "data": {
      "text/plain": [
       "'\\nThis is a multi-line\\ncomment in the\\nprogram\\n'"
      ]
     },
     "execution_count": 2,
     "metadata": {},
     "output_type": "execute_result"
    }
   ],
   "source": [
    "'''\n",
    "This is a multi-line\n",
    "comment in the\n",
    "program\n",
    "'''"
   ]
  },
  {
   "cell_type": "code",
   "execution_count": 3,
   "metadata": {},
   "outputs": [
    {
     "data": {
      "text/plain": [
       "'\\nThis another\\nmulti-line text\\nin my code\\n'"
      ]
     },
     "execution_count": 3,
     "metadata": {},
     "output_type": "execute_result"
    }
   ],
   "source": [
    "\"\"\"\n",
    "This another\n",
    "multi-line text\n",
    "in my code\n",
    "\"\"\""
   ]
  },
  {
   "cell_type": "code",
   "execution_count": 1,
   "metadata": {},
   "outputs": [],
   "source": [
    "num1 = 1000\n",
    "num2 = 2000\n",
    "total = num1 + num2"
   ]
  },
  {
   "cell_type": "code",
   "execution_count": null,
   "metadata": {},
   "outputs": [
    {
     "name": "stdout",
     "output_type": "stream",
     "text": [
      "Doing addition operation...\n",
      "Sum of 1000 and 2000 is 3000...\n",
      "Sum of 1000 and 2000 is 3000...\n",
      "Sum of 1000 and 2000 is 3000...\n",
      "Sum of 1000 and 2000 is 3000...\n",
      "Sum of 1000 and 2000 is 3000...\n",
      "Sum of 1000 and 2000 is 3000...\n",
      "Sum of 1000 and 2000 is 3000 ...\n",
      "Sum of 1000 and 2000 is 3000...\n"
     ]
    }
   ],
   "source": [
    "print ('Doing addition operation...')\n",
    "print (\"Sum of {} and {} is {}...\".format(num1,num2,total))\n",
    "print (\"Sum of {0} and {1} is {2}...\".format(num1,num2,total))\n",
    "print (\"Sum of {2} and {1} is {0}...\".format(total,num2,num1))\n",
    "print (\"Sum of {fnum} and {snum} is {tot}...\".format(fnum=num1,\\\n",
    "                                snum=num2,tot=total))\n",
    "print (\"Sum of {fnum} and {snum} is {tot}...\".format(tot=total,\\\n",
    "                                            fnum=num1,snum=num2))\n",
    "print (\"Sum of %d and %d is %d...\"%(num1,num2,total))\n",
    "print (\"Sum of\",num1,\"and\",num2,\"is\",total,\"...\")\n",
    "print (\"Sum of \"+str(num1)+\" and \"+str(num2)+\" is \"+str(total)+\"...\")"
   ]
  },
  {
   "cell_type": "code",
   "execution_count": 2,
   "metadata": {},
   "outputs": [
    {
     "name": "stdout",
     "output_type": "stream",
     "text": [
      "Please enter the first number --> 7\n",
      "Please enter the second number --> 8\n",
      "So the sum of 7 and 8 is 15\n"
     ]
    }
   ],
   "source": [
    "num1 = int(input(\"Please enter the first number --> \"))\n",
    "num2 = int(input(\"Please enter the second number --> \"))\n",
    "total = num1 + num2\n",
    "print (\"So the sum of {} and {} is {}\".format(num1,num2,total))"
   ]
  },
  {
   "cell_type": "code",
   "execution_count": 1,
   "metadata": {},
   "outputs": [
    {
     "name": "stdout",
     "output_type": "stream",
     "text": [
      "5 + 2 =  7\n",
      "5 - 2 =  3\n",
      "5 * 2 =  10\n",
      "5 / 2 =  2.5\n",
      "5 // 2 =  2\n",
      "5 ** 2 =  25\n",
      "5 % 2 =  1\n"
     ]
    }
   ],
   "source": [
    "print (\"5 + 2 = \",(5 + 2))      # addition operation\n",
    "print (\"5 - 2 = \",(5 - 2))      # subtraction operation\n",
    "print (\"5 * 2 = \",(5 * 2))      # multiplication operation\n",
    "print (\"5 / 2 = \",(5 / 2))      # division operation\n",
    "print (\"5 // 2 = \",(5 // 2))    # integer division operation\n",
    "print (\"5 ** 2 = \",(5 ** 2))    # exponentiation operation\n",
    "print (\"5 % 2 = \",(5 % 2))      # modulus operation"
   ]
  },
  {
   "cell_type": "code",
   "execution_count": null,
   "metadata": {},
   "outputs": [],
   "source": [
    "num1 = int(input(\"Please enter the first number --> \"))\n",
    "num2 = int(input(\"Please enter the second number --> \"))\n",
    "print (\"M A I N  M E N U ...\") \n",
    "print (\"--------------------\") \n",
    "print (\"1 > A D D I T I O N  O P E R A T I O N ...\")\n",
    "print (\"2 > S U B T R A C T I O N  O P E R A T I O N ...\")\n",
    "print (\"3 > D I V I S I O N  O P E R A T I O N ...\")\n",
    "print (\"4 > M U L T I P L I C A T I O N  O P E R A T I O N ...\")\n",
    "choice = int (input(\"Please enter your choice --> \"))\n",
    "if (choice is 1):\n",
    "    total = num1 + num2\n",
    "    print (\"So the sum of {} and {} is {}...\".format(num1,num2,total))\n",
    "elif (choice == 2):\n",
    "    total = num1 - num2\n",
    "    print (\"So the difference of {} and {} is {}...\".format(num1,num2,total))\n",
    "elif (choice == 3):\n",
    "    if (num2 != 0):\n",
    "        total = num1 / num2\n",
    "        print (\"So the quotient of {} and {} is {}...\".format(num1,num2,total))\n",
    "    else:\n",
    "        print (\"Division by ZERO is illegal...!!!\")\n",
    "elif (choice == 4):\n",
    "    total = num1 * num2\n",
    "    print (\"So the product of {} and {} is {}...\".format(num1,num2,total))\n",
    "else:\n",
    "    print (\"Invalid choice value has been provided...\")\n",
    "print (\"End of the program...\")"
   ]
  },
  {
   "cell_type": "code",
   "execution_count": 2,
   "metadata": {},
   "outputs": [
    {
     "name": "stdout",
     "output_type": "stream",
     "text": [
      "Please enter the first number --> 12\n",
      "Please enter the second number --> 45\n",
      "Please enter the third number --> 78\n",
      "So the maximum number is --> \n",
      "78\n",
      "End of the program...\n"
     ]
    }
   ],
   "source": [
    "num1 = int(input(\"Please enter the first number --> \"))\n",
    "num2 = int(input(\"Please enter the second number --> \"))\n",
    "num3 = int(input(\"Please enter the third number --> \"))\n",
    "print (\"So the maximum number is --> \")\n",
    "if (num1 > num2):\n",
    "    if (num1 > num3):\n",
    "        print (num1)\n",
    "    else:\n",
    "        print (num3)\n",
    "elif (num2 > num3):\n",
    "    print (num2)\n",
    "else:\n",
    "    print (num3)\n",
    "print (\"End of the program...\")"
   ]
  },
  {
   "cell_type": "code",
   "execution_count": null,
   "metadata": {},
   "outputs": [],
   "source": [
    "num1 = int(input(\"Please enter the first number --> \"))\n",
    "num2 = int(input(\"Please enter the second number --> \"))\n",
    "num3 = int(input(\"Please enter the third number --> \"))\n",
    "print (\"So the maximum number is --> \")\n",
    "if (num1 >= num2 and num1 >= num3):\n",
    "    print (num1)\n",
    "elif (num2 >= num3):\n",
    "    print (num2)\n",
    "else:\n",
    "    print (num3)\n",
    "print (\"End of the program...\")"
   ]
  },
  {
   "cell_type": "code",
   "execution_count": null,
   "metadata": {},
   "outputs": [],
   "source": [
    "num1 = int(input(\"Please enter the first number --> \"))\n",
    "num2 = int(input(\"Please enter the second number --> \"))\n",
    "num3 = int(input(\"Please enter the third number --> \"))\n",
    "print (\"So the second maximum is --> \")\n",
    "if (num1 >= num2):\n",
    "    max1 = num1\n",
    "    max2 = num2\n",
    "else:\n",
    "    max1 = num2\n",
    "    max2 = num1\n",
    "    \n",
    "if (num3 >= max1):\n",
    "    print (max1)\n",
    "elif (num3 >= max2):\n",
    "    print (num3)\n",
    "else:\n",
    "    print (max2)\n",
    "print (\"End of the program...\")"
   ]
  },
  {
   "cell_type": "code",
   "execution_count": null,
   "metadata": {},
   "outputs": [],
   "source": [
    "i = 1\n",
    "while i <= 8:\n",
    "    print (\"Executing for i =\",i)\n",
    "    # i = i + 2\n",
    "    i += 2\n",
    "print (\"Finally i = \",i)\n",
    "print (\"End of the program...\")"
   ]
  },
  {
   "cell_type": "code",
   "execution_count": null,
   "metadata": {},
   "outputs": [],
   "source": [
    "print (\"Visit Doctor...\")\n",
    "day = 1\n",
    "medi_count = 0\n",
    "while (day <= 5):\n",
    "    print (\"Good morning...\")\n",
    "    medi = 1\n",
    "    while (medi <= 3):\n",
    "        print (\"Day number =\",day,\"Medicine number =\",medi)\n",
    "        medi_count += 1\n",
    "        medi += 1\n",
    "    print (\"Good Night...\")\n",
    "    day += 1\n",
    "print (\"Thanks Doctor...\")\n",
    "print (\"So the total medicine count =\",medi_count)"
   ]
  },
  {
   "cell_type": "code",
   "execution_count": null,
   "metadata": {},
   "outputs": [],
   "source": [
    "for i in range(10,2,-2):\n",
    "    print (\"i = \",i)\n",
    "print (\"Finally i = \",i)\n",
    "print (\"End of the program...\")"
   ]
  },
  {
   "cell_type": "code",
   "execution_count": null,
   "metadata": {},
   "outputs": [],
   "source": [
    "print (\"Visit Doctor...\")\n",
    "medi_count = 0\n",
    "for day in range(1,6):\n",
    "    print (\"Good morning...\")\n",
    "    for medi in range(1,4):\n",
    "        print (\"Day number =\",day,\"Medicine number =\",medi)\n",
    "        medi_count += 1\n",
    "    print (\"Good Night...\")\n",
    "print (\"Thanks Doctor...\")\n",
    "print (\"So the total medicine count =\",medi_count)"
   ]
  },
  {
   "cell_type": "code",
   "execution_count": null,
   "metadata": {},
   "outputs": [],
   "source": [
    "print (\"Hello\")\n",
    "print (\"World\")"
   ]
  },
  {
   "cell_type": "code",
   "execution_count": null,
   "metadata": {},
   "outputs": [],
   "source": [
    "print (\"Hello\",end=\" \")\n",
    "print (\"World\")\n",
    "print (\"India\")"
   ]
  },
  {
   "cell_type": "code",
   "execution_count": null,
   "metadata": {},
   "outputs": [],
   "source": [
    "print (\"Hello\")\n",
    "print (\"World \" * 5)"
   ]
  },
  {
   "cell_type": "raw",
   "metadata": {},
   "source": [
    "n = 5 (user given)\n",
    "                i   .   *\n",
    "              -------------\n",
    "....*           1   4   1\n",
    "...***          2   3   3    . => n - i\n",
    "..*****         3   2   5    * => 2 * i - 1\n",
    ".*******        4   1   7\n",
    "*********       5   0   9\n",
    "              -------------"
   ]
  },
  {
   "cell_type": "code",
   "execution_count": null,
   "metadata": {},
   "outputs": [],
   "source": [
    "n = int(input(\"Enter the number of layers --> \"))\n",
    "for i in range(1 , n+1):\n",
    "    print (\".\" * (n-i), end=\"\")\n",
    "    print (\"*\" * (2 * i - 1))\n",
    "print (\"End of the program...\")"
   ]
  },
  {
   "cell_type": "raw",
   "metadata": {},
   "source": [
    "n = 5 (user given)\n",
    "                i   .   *\n",
    "              -------------\n",
    "*********       1   0   9\n",
    ".*******        2   1   7    . => i - 1\n",
    "..*****         3   2   5    * => 2 * (n - i) + 1\n",
    "...***          4   3   3\n",
    "....*           5   4   1\n",
    "              -------------"
   ]
  },
  {
   "cell_type": "code",
   "execution_count": null,
   "metadata": {},
   "outputs": [],
   "source": [
    "n = int(input(\"Enter the number of layers --> \"))\n",
    "for i in range(1 , n + 1):\n",
    "    print (\".\" * (i - 1), end=\"\")\n",
    "    print (\"*\" * (2 * (n - i) + 1))\n",
    "print (\"End of the program...\")"
   ]
  },
  {
   "cell_type": "raw",
   "metadata": {},
   "source": [
    "n = 9 (odd only) (user given)   m = (n + 1) / 2 = 5\n",
    "                i   .   *\n",
    "              -------------\n",
    "....*           1   4   1\n",
    "...***          2   3   3    . => m - i\n",
    "..*****         3   2   5    * => 2 * i - 1\n",
    ".*******        4   1   7\n",
    "*********     __5___0___9__\n",
    ".*******        6   1   7\n",
    "..*****         7   2   5    . => i - m\n",
    "...***          8   3   3    * => 2 * (n - i) + 1\n",
    "....*           9   4   1\n",
    "              -------------"
   ]
  },
  {
   "cell_type": "code",
   "execution_count": null,
   "metadata": {},
   "outputs": [],
   "source": [
    "n = 0\n",
    "while (n % 2 == 0):\n",
    "    n = int(input(\"Please enter odd number of layers --> \"))\n",
    "m = (n + 1) // 2\n",
    "for i in range(1, n + 1):\n",
    "    if (i > m):\n",
    "        b = (i - m)\n",
    "        s = 2 * (n - i) + 1\n",
    "    else:\n",
    "        b = (m - i)\n",
    "        s = 2 * i - 1\n",
    "    print (\".\" * b, end=\"\")\n",
    "    print (\"*\" * s)\n",
    "print (\"End of the program...\")"
   ]
  },
  {
   "cell_type": "code",
   "execution_count": 3,
   "metadata": {},
   "outputs": [
    {
     "name": "stdout",
     "output_type": "stream",
     "text": [
      "i =  1\n",
      "i =  2\n",
      "i =  3\n",
      "i =  4\n",
      "i =  5\n",
      "End of the program...\n"
     ]
    }
   ],
   "source": [
    "# dealing with the break statement\n",
    "i = 1\n",
    "while (i <= 20):\n",
    "    print (\"i = \",i)\n",
    "    if (i == 5):\n",
    "        break\n",
    "    i += 1\n",
    "print (\"End of the program...\")"
   ]
  },
  {
   "cell_type": "code",
   "execution_count": null,
   "metadata": {},
   "outputs": [],
   "source": [
    "# finding all prime numbers from 1 to 100\n",
    "for num in range(3, 20):\n",
    "    for myfactor in range(2, num):\n",
    "        if (num % myfactor == 0):\n",
    "            break   \n",
    "    if (myfactor == (num - 1)):\n",
    "        print (num,\"is a Prime Number...\")\n",
    "print (\"End of the program...\")"
   ]
  },
  {
   "cell_type": "code",
   "execution_count": null,
   "metadata": {},
   "outputs": [],
   "source": [
    "# dealing with continue statement...\n",
    "for num in range(1,20):\n",
    "    if (num % 2 != 0):\n",
    "        continue\n",
    "    print (\"num = \", num)\n",
    "print (\"End of the program...\")"
   ]
  },
  {
   "cell_type": "code",
   "execution_count": 4,
   "metadata": {},
   "outputs": [
    {
     "name": "stdout",
     "output_type": "stream",
     "text": [
      "Hello Hello Hello Hello Hello \n",
      "Hello Hello Hello Hello Hello Hello Hello Hello \n",
      "Hello Hello Hello \n",
      "Hello Hello Hello Hello \n",
      "Hello Hello Hello Hello Hello Hello Hello \n"
     ]
    }
   ],
   "source": [
    "def myFunction1():\n",
    "    print (\"Hello \" * 5)\n",
    "    \n",
    "def myFunction2(num):\n",
    "    print (\"Hello \" * num)\n",
    "\n",
    "def myFunction3(num):\n",
    "    return (\"Hello \" * num)\n",
    "    \n",
    "myFunction1()\n",
    "myFunction2(8)\n",
    "myFunction2(3)\n",
    "myStr = myFunction3(4)\n",
    "print (myStr)\n",
    "print (myFunction3(7))"
   ]
  },
  {
   "cell_type": "code",
   "execution_count": null,
   "metadata": {},
   "outputs": [],
   "source": [
    "def myFunction4(arg1 = 111,arg2 = 222,arg3 = 333):\n",
    "    print (\"arg1 = \",arg1,\"arg2 = \",arg2,\"arg3 = \",arg3)\n",
    "    \n",
    "myFunction4(100,200,300)\n",
    "myFunction4(100,200)\n",
    "myFunction4(100)\n",
    "myFunction4()\n",
    "myFunction4(arg3=300,arg1=100)"
   ]
  },
  {
   "cell_type": "code",
   "execution_count": null,
   "metadata": {},
   "outputs": [],
   "source": [
    "def myFunction5(num1,num2):\n",
    "    add = num1 + num2\n",
    "    sub = num1 - num2\n",
    "    mul = num1 * num2\n",
    "    div = num1 / num2\n",
    "    return (add,sub,mul,div)\n",
    "\n",
    "num1 = int (input(\"Please enter the first number --> \"))\n",
    "num2 = int (input(\"Please enter the second number --> \"))\n",
    "summ,diff,prod,quot = myFunction5(num1,num2)\n",
    "print (\"So the total is\",summ)\n",
    "print (\"So the difference is\",diff)\n",
    "print (\"So the product is\",prod)\n",
    "print (\"So the quotient is\",quot)"
   ]
  },
  {
   "cell_type": "code",
   "execution_count": null,
   "metadata": {},
   "outputs": [],
   "source": [
    "def myFunction6(num1, num2 = None):\n",
    "    if (num2 == None):\n",
    "        return (2 * num1)\n",
    "    else:\n",
    "        return (num1 * num2)\n",
    "print (\"So result is: \",myFunction6(100,40))\n",
    "print (\"So result is: \",myFunction6(100))"
   ]
  },
  {
   "cell_type": "code",
   "execution_count": null,
   "metadata": {},
   "outputs": [],
   "source": [
    "mySquare = lambda num1: num1 * num1\n",
    "print (\"So the square of {} is {}\".format(5,mySquare(5)))"
   ]
  },
  {
   "cell_type": "code",
   "execution_count": null,
   "metadata": {},
   "outputs": [],
   "source": [
    "myTotal = lambda num1,num2: num1 + num2\n",
    "print (\"So the sum of {} and {} is {}\".format(50,60,myTotal(50,60)))"
   ]
  },
  {
   "cell_type": "code",
   "execution_count": null,
   "metadata": {},
   "outputs": [],
   "source": [
    "# dealing with non-recursive function...\n",
    "# calculating factorial of a given number...\n",
    "def factorial_nr(num):\n",
    "    fact = num\n",
    "    for i in range(2, num):\n",
    "        fact = fact * i\n",
    "    return fact\n",
    "        \n",
    "n = int(input(\"Please enter an integer --> \"))\n",
    "fact_calculated = factorial_nr(n)\n",
    "print (\"So the factorial of {} is {}\".format(n,fact_calculated))\n",
    "print (\"End of the program...\")"
   ]
  },
  {
   "cell_type": "code",
   "execution_count": null,
   "metadata": {},
   "outputs": [],
   "source": [
    "# dealing with non-recursive function...\n",
    "# calculating factorial of a given number...\n",
    "def factorial_r(num):\n",
    "    if (num == 0 or num == 1):      # base case\n",
    "        return 1\n",
    "    return num * factorial_r(num - 1)\n",
    "        \n",
    "n = int(input(\"Please enter an integer --> \"))\n",
    "fact_calculated = factorial_r(n)\n",
    "print (\"So the factorial of {} is {}\".format(n,fact_calculated))\n",
    "print (\"End of the program...\")"
   ]
  },
  {
   "cell_type": "code",
   "execution_count": null,
   "metadata": {},
   "outputs": [],
   "source": [
    "n = int (input(\"Please enter an integer --> \"))\n",
    "choice = input(\"Please mention Recursive(r) or Non-Recursive(nr) --> \")\n",
    "if (choice == \"r\"):\n",
    "    fact_calculated = factorial_r(n)\n",
    "else:\n",
    "    fact_calculated = factorial_nr(n)\n",
    "print (\"So factorial of {} is {}...\".format(n,fact_calculated))\n",
    "print (\"End of the program...\")"
   ]
  },
  {
   "cell_type": "code",
   "execution_count": null,
   "metadata": {},
   "outputs": [],
   "source": [
    "# dealing with numbers...\n",
    "import math\n",
    "a = 4.6\n",
    "print (math.ceil(a))\n",
    "print (math.floor(a))\n",
    "b = 9\n",
    "print (math.sqrt(b))\n",
    "print (math.exp(3.0))\n",
    "print (math.log(2.0))\n",
    "print (math.pow(2.0,3.0),2.0 ** 3.0)\n",
    "print (math.sin(0))\n",
    "print (math.cos(0))\n",
    "print (math.tan(45))\n",
    "print (abs(-45))\n",
    "mySqrt = math.sqrt\n",
    "print (mySqrt(16))"
   ]
  },
  {
   "cell_type": "code",
   "execution_count": null,
   "metadata": {},
   "outputs": [],
   "source": [
    "help(math.pow)"
   ]
  },
  {
   "cell_type": "code",
   "execution_count": null,
   "metadata": {},
   "outputs": [],
   "source": [
    "# dealing with Strings...\n",
    "# dealing with string slicing...\n",
    "#           str ->  u  n  i  v  e  r  s  i  t  y\n",
    "# Left to Right ->  0  1  2  3  4  5  6  7  8  9\n",
    "# Right to Left ->-10 -9 -8 -7 -6 -5 -4 -3 -2 -1\n",
    "\n",
    "str = \"university\"\n",
    "print (str)\n",
    "print (str[0:3],str[0:6],str[:6],str[:-4],str[:-4:1])\n",
    "print (str[0::2],str[3:])\n",
    "print (str[3:8],str[-7:-2],str[3:-2],str[-7:8])\n",
    "print (str[::-1])"
   ]
  },
  {
   "cell_type": "code",
   "execution_count": null,
   "metadata": {},
   "outputs": [],
   "source": [
    "str = \"university\"\n",
    "for char in str:\n",
    "    print (char)"
   ]
  },
  {
   "cell_type": "code",
   "execution_count": null,
   "metadata": {},
   "outputs": [],
   "source": [
    "str = \"caLCutTa unIVerSitY\"\n",
    "print (str)\n",
    "print (str.capitalize())\n",
    "print (str.upper())\n",
    "print (str.lower())"
   ]
  },
  {
   "cell_type": "code",
   "execution_count": 5,
   "metadata": {},
   "outputs": [
    {
     "name": "stdout",
     "output_type": "stream",
     "text": [
      "True False True True\n",
      "True True False False\n",
      "True False False False\n",
      "False False False False\n"
     ]
    }
   ],
   "source": [
    "str = \"1234\"\n",
    "print (str.isalnum(),str.isalpha(),str.isdigit(),str.isnumeric())\n",
    "str = \"abcd\"\n",
    "print (str.isalnum(),str.isalpha(),str.isdigit(),str.isnumeric())\n",
    "str = \"1234abcd\"\n",
    "print (str.isalnum(),str.isalpha(),str.isdigit(),str.isnumeric())\n",
    "str = \"abc@gmail.com\"\n",
    "print (str.isalnum(),str.isalpha(),str.isdigit(),str.isnumeric())"
   ]
  },
  {
   "cell_type": "code",
   "execution_count": null,
   "metadata": {},
   "outputs": [],
   "source": [
    "str = \"good morning\"\n",
    "print (str)\n",
    "str = str.replace(\"morning\",\"night\")\n",
    "print (str)"
   ]
  },
  {
   "cell_type": "code",
   "execution_count": 6,
   "metadata": {},
   "outputs": [
    {
     "name": "stdout",
     "output_type": "stream",
     "text": [
      "9\n",
      "-1\n",
      "9\n",
      "-1\n"
     ]
    }
   ],
   "source": [
    "str = \"ram is a good boy\"\n",
    "print (str.find(\"good\"))\n",
    "print (str.find(\"bad\"))\n",
    "print (str.find(\"good\",7,20))\n",
    "print (str.find(\"good\",10,20))"
   ]
  },
  {
   "cell_type": "code",
   "execution_count": 7,
   "metadata": {},
   "outputs": [
    {
     "name": "stdout",
     "output_type": "stream",
     "text": [
      "9\n",
      "Unsuccessful searching...\n",
      "End of the program\n"
     ]
    }
   ],
   "source": [
    "str = \"ram is a good boy\"\n",
    "try:\n",
    "    print (str.index(\"good\"))\n",
    "    print (str.index(\"bad\"))\n",
    "except ValueError:\n",
    "    print (\"Unsuccessful searching...\")\n",
    "print (\"End of the program\")"
   ]
  },
  {
   "cell_type": "code",
   "execution_count": 8,
   "metadata": {},
   "outputs": [
    {
     "name": "stdout",
     "output_type": "stream",
     "text": [
      "Pattern found at index number is 6\n",
      "Pattern found at index number is 29\n",
      "good has occurred for 2 number of times.\n",
      "End of the program...\n"
     ]
    }
   ],
   "source": [
    "mystr = \"Hi!!! goOd morning to all my GOod students\"\n",
    "pattern = \"GooD\"\n",
    "mystr = mystr.lower()\n",
    "pattern = pattern.lower()\n",
    "start_position = 0\n",
    "result = 0\n",
    "count = 0\n",
    "while (result != -1):\n",
    "    result = mystr.find(pattern,start_position)\n",
    "    if result != -1:\n",
    "        print (\"Pattern found at index number is\",result)\n",
    "        count += 1\n",
    "        start_position = result + 1\n",
    "print (\"{} has occurred for {} number of times.\".format(pattern,count))\n",
    "print (\"End of the program...\")"
   ]
  },
  {
   "cell_type": "code",
   "execution_count": null,
   "metadata": {},
   "outputs": [],
   "source": [
    "mystr = \"charity begins at home\"\n",
    "print (mystr.endswith(\"begins\"))\n",
    "print (mystr.endswith(\"begins\",0,14))\n",
    "print (mystr.endswith(\"begins\",3,14))\n",
    "print (mystr.endswith(\"begins\",0,15))"
   ]
  },
  {
   "cell_type": "code",
   "execution_count": 9,
   "metadata": {},
   "outputs": [
    {
     "name": "stdout",
     "output_type": "stream",
     "text": [
      "False\n",
      "True\n",
      "True\n",
      "False\n"
     ]
    }
   ],
   "source": [
    "mystr = \"charity begins at home\"\n",
    "print (mystr.startswith(\"begins\"))\n",
    "print (mystr.startswith(\"begins\",8))\n",
    "print (mystr.startswith(\"begins\",8,20))\n",
    "print (mystr.startswith(\"begins\",10,20))"
   ]
  },
  {
   "cell_type": "code",
   "execution_count": 10,
   "metadata": {},
   "outputs": [
    {
     "name": "stdout",
     "output_type": "stream",
     "text": [
      "True False\n",
      "2 7\n"
     ]
    }
   ],
   "source": [
    "mystr1 = \"  \"\n",
    "mystr2 = \"Welcome\"\n",
    "print (mystr1.isspace(),mystr2.isspace())\n",
    "print (len(mystr1),len(mystr2))"
   ]
  },
  {
   "cell_type": "code",
   "execution_count": null,
   "metadata": {},
   "outputs": [],
   "source": [
    "mystr1 = \"    welcome       back  \"\n",
    "print (len(mystr1),mystr1.strip(),len(mystr1.strip()))\n",
    "print (len(mystr1),mystr1.lstrip(),len(mystr1.lstrip()))\n",
    "print (len(mystr1),mystr1.rstrip(),len(mystr1.rstrip()))"
   ]
  },
  {
   "cell_type": "code",
   "execution_count": null,
   "metadata": {},
   "outputs": [],
   "source": [
    "mystr1 = \"@@#@welcome##@##\"\n",
    "print (len(mystr1),mystr1.strip(\"@#\"),len(mystr1.strip(\"@#\")))\n",
    "print (len(mystr1),mystr1.lstrip(\"@#\"),len(mystr1.lstrip(\"@#\")))\n",
    "print (len(mystr1),mystr1.rstrip(\"@#\"),len(mystr1.rstrip(\"@#\")))"
   ]
  },
  {
   "cell_type": "code",
   "execution_count": null,
   "metadata": {},
   "outputs": [],
   "source": [
    "mystr1 = \"   @@#@welcome##@##  \"\n",
    "print (mystr1.strip())\n",
    "print (mystr1.strip().strip(\"@#\"))"
   ]
  },
  {
   "cell_type": "code",
   "execution_count": 11,
   "metadata": {},
   "outputs": [
    {
     "name": "stdout",
     "output_type": "stream",
     "text": [
      "Please enter one word: r\n",
      "Input string is:  r\n",
      "So number of Vowels: 0 and Consonants: 1...\n",
      "End of the program...\n"
     ]
    }
   ],
   "source": [
    "# Class Assignment -\n",
    "# Please take one word from the keyboard as input and count the number\n",
    "# of vowels and consonants.\n",
    "# Example - Input: \"University\"\n",
    "#          Output: Vowels: 4 and Consonants: 6\n",
    "mystr1 = input(\"Please enter one word: \").lower()\n",
    "print (\"Input string is: \",mystr1)\n",
    "vcount = 0\n",
    "for char in mystr1:\n",
    "    if (char==\"a\" or char==\"e\" or char==\"i\" or char==\"o\" or char==\"u\"):\n",
    "        vcount += 1\n",
    "print (\"So number of Vowels: {} and Consonants: {}...\".\\\n",
    "       format(vcount,len(mystr1)-vcount))\n",
    "print (\"End of the program...\")"
   ]
  },
  {
   "cell_type": "code",
   "execution_count": null,
   "metadata": {},
   "outputs": [],
   "source": [
    "myStr = \"charity begins at home\"\n",
    "myList = myStr.split()\n",
    "print (myStr)\n",
    "print (myList)"
   ]
  },
  {
   "cell_type": "code",
   "execution_count": null,
   "metadata": {},
   "outputs": [],
   "source": [
    "num1 = 100\n",
    "num2 = 200"
   ]
  },
  {
   "cell_type": "code",
   "execution_count": null,
   "metadata": {},
   "outputs": [],
   "source": [
    "print (num1)\n",
    "print (num2)"
   ]
  },
  {
   "cell_type": "markdown",
   "metadata": {},
   "source": [
    "# This line staring with one hash symbol"
   ]
  },
  {
   "cell_type": "markdown",
   "metadata": {},
   "source": [
    "## This line staring with two hash symbols"
   ]
  },
  {
   "cell_type": "markdown",
   "metadata": {},
   "source": [
    "### This line staring with three hash symbols"
   ]
  },
  {
   "cell_type": "markdown",
   "metadata": {},
   "source": [
    "#### This line staring with four hash symbols"
   ]
  },
  {
   "cell_type": "markdown",
   "metadata": {},
   "source": [
    "###### This line staring with six hash symbols"
   ]
  },
  {
   "cell_type": "code",
   "execution_count": 1,
   "metadata": {},
   "outputs": [
    {
     "name": "stdout",
     "output_type": "stream",
     "text": [
      "['juice', 'potatoes', 'bananas']\n",
      "juice\n",
      "['juice', 'potatoes', 'bananas']\n",
      "['potatoes', 'bananas']\n",
      "['juice', 'potatoes']\n",
      "ui\n",
      "a\n"
     ]
    }
   ],
   "source": [
    "# dealing with lists...\n",
    "grocery_list = [\"juice\",\"potatoes\",\"bananas\"]\n",
    "print (grocery_list)\n",
    "print (grocery_list[0])\n",
    "print (grocery_list[0:3])\n",
    "print (grocery_list[1:3])\n",
    "print (grocery_list[-3:-1])\n",
    "print (grocery_list[0][1:3])\n",
    "print (grocery_list[1][3])"
   ]
  },
  {
   "cell_type": "code",
   "execution_count": null,
   "metadata": {},
   "outputs": [],
   "source": [
    "my_list = [\"welcome\", 100, 45.67, True]\n",
    "print (my_list)"
   ]
  },
  {
   "cell_type": "code",
   "execution_count": null,
   "metadata": {},
   "outputs": [],
   "source": [
    "other_events = [\"wash car\",\"pick up kids\",\"cash check\"]\n",
    "to_do_list = [other_events, grocery_list]\n",
    "print (other_events, len(other_events))\n",
    "print (to_do_list, len(to_do_list))\n",
    "print (to_do_list[0],to_do_list[0][1],to_do_list[0][1][5:7])"
   ]
  },
  {
   "cell_type": "code",
   "execution_count": null,
   "metadata": {},
   "outputs": [],
   "source": [
    "print (grocery_list)\n",
    "grocery_list.append(\"onion\")\n",
    "print (grocery_list)"
   ]
  },
  {
   "cell_type": "code",
   "execution_count": null,
   "metadata": {},
   "outputs": [],
   "source": [
    "print (grocery_list)\n",
    "grocery_list.insert(1,\"pickle\")\n",
    "print (grocery_list)"
   ]
  },
  {
   "cell_type": "code",
   "execution_count": null,
   "metadata": {},
   "outputs": [],
   "source": [
    "print (grocery_list)\n",
    "grocery_list.remove(\"pickle\")\n",
    "print (grocery_list)"
   ]
  },
  {
   "cell_type": "code",
   "execution_count": null,
   "metadata": {},
   "outputs": [],
   "source": [
    "print (grocery_list)\n",
    "grocery_list.remove(\"garlic\")\n",
    "print (grocery_list)"
   ]
  },
  {
   "cell_type": "code",
   "execution_count": null,
   "metadata": {},
   "outputs": [],
   "source": [
    "print (grocery_list)\n",
    "sorted_list = grocery_list.sort()\n",
    "print (grocery_list,sorted_list)"
   ]
  },
  {
   "cell_type": "code",
   "execution_count": null,
   "metadata": {},
   "outputs": [],
   "source": [
    "num_list = [22,55,33,66,44,77,99,88,11]\n",
    "print (num_list)\n",
    "num_list.sort()\n",
    "print (num_list)\n",
    "num_list.reverse()\n",
    "print (num_list)"
   ]
  },
  {
   "cell_type": "code",
   "execution_count": null,
   "metadata": {},
   "outputs": [],
   "source": [
    "myStr = \"charity begins at home\"\n",
    "myList = myStr.split()\n",
    "output_str = \"\"\n",
    "for word in myList:\n",
    "    word = word.capitalize()\n",
    "    print (word)\n",
    "    output_str = output_str + word + \" \"\n",
    "output_str = output_str.strip()\n",
    "print (\"Resultant processed string is: \",output_str)\n",
    "print (\"End of the program...\")"
   ]
  },
  {
   "cell_type": "code",
   "execution_count": null,
   "metadata": {},
   "outputs": [],
   "source": [
    "print (grocery_list)\n",
    "print (other_events)\n",
    "to_do_list1 = grocery_list + other_events\n",
    "to_do_list2 = [grocery_list,other_events]\n",
    "print (to_do_list1)\n",
    "print (to_do_list2)"
   ]
  },
  {
   "cell_type": "code",
   "execution_count": null,
   "metadata": {},
   "outputs": [],
   "source": [
    "print (grocery_list)\n",
    "del grocery_list[2]\n",
    "print (grocery_list)"
   ]
  },
  {
   "cell_type": "code",
   "execution_count": null,
   "metadata": {},
   "outputs": [],
   "source": [
    "print (grocery_list)\n",
    "del grocery_list\n",
    "print (grocery_list)"
   ]
  },
  {
   "cell_type": "code",
   "execution_count": null,
   "metadata": {},
   "outputs": [],
   "source": [
    "num_list = [100,400,200,300]\n",
    "print (\"Length: \",len(num_list))\n",
    "print (\"Maximum Element: \",max(num_list))\n",
    "print (\"Minimum Element: \",min(num_list))\n",
    "print (\"Total: \",sum(num_list))\n",
    "print (\"Average: \",sum(num_list)/len(num_list))"
   ]
  },
  {
   "cell_type": "code",
   "execution_count": null,
   "metadata": {},
   "outputs": [],
   "source": [
    "# Class Assignment -\n",
    "# Please take one word from the keyboard as input and count the number\n",
    "# of vowels and consonants.\n",
    "# Example - Input: \"University\"\n",
    "#          Output: Vowels: 4 and Consonants: 6\n",
    "mystr1 = input(\"Please enter one word: \").lower()\n",
    "print (\"Input string is: \",mystr1)\n",
    "vcount = 0\n",
    "for char in mystr1:\n",
    "    if (char in [\"a\",\"e\",\"i\",\"o\",\"u\"]):\n",
    "        vcount += 1\n",
    "print (\"So number of Vowels: {} and Consonants: {}...\".\\\n",
    "       format(vcount,len(mystr1)-vcount))\n",
    "print (\"End of the program...\")"
   ]
  },
  {
   "cell_type": "code",
   "execution_count": null,
   "metadata": {},
   "outputs": [],
   "source": [
    "num_list = [11,22,33]\n",
    "print (num_list)\n",
    "num_list.append(44)\n",
    "print (num_list)\n",
    "num_list.extend([55,66,77])\n",
    "print (num_list)"
   ]
  },
  {
   "cell_type": "code",
   "execution_count": null,
   "metadata": {},
   "outputs": [],
   "source": [
    "# Ask user for n number of numbers and put them in a list and print it\n",
    "# Now split this list into two lists depending upon whether the element\n",
    "# is even or odd."
   ]
  },
  {
   "cell_type": "code",
   "execution_count": null,
   "metadata": {},
   "outputs": [],
   "source": [
    "num = int(input(\"Please enter number of numbers --> \"))\n",
    "num_list = []\n",
    "for i in range(0,num):\n",
    "    data = int(input(\"Please enter data number {} --> \".format(i + 1)))\n",
    "    num_list.append(data)\n",
    "print (\"So the final input list is: \",num_list)\n",
    "even_list = []\n",
    "odd_list = []\n",
    "for data in num_list:\n",
    "    if (data % 2 == 0):\n",
    "        even_list.append(data)\n",
    "    else:\n",
    "        odd_list.append(data)\n",
    "print (\"Even list: \",even_list)\n",
    "print (\"Odd list: \",odd_list)\n",
    "print (\"End of the program...\")"
   ]
  },
  {
   "cell_type": "raw",
   "metadata": {},
   "source": [
    "Input List: [11,-22,55,-33,66,-77,44,-88]\n",
    "Output Lists:\n",
    "    All Positive: [11,22,55,33,66,77,44,88]\n",
    "   Only Positive: [11,55,66,44]"
   ]
  },
  {
   "cell_type": "code",
   "execution_count": null,
   "metadata": {},
   "outputs": [],
   "source": [
    "num = int(input(\"Please enter number of numbers --> \"))\n",
    "num_list = []\n",
    "for i in range(0,num):\n",
    "    data = int(input(\"Please enter data number {} --> \".format(i + 1)))\n",
    "    num_list.append(data)\n",
    "print (\"So the final input list is: \",num_list)\n",
    "all_list = []\n",
    "only_list = []\n",
    "for data in num_list:\n",
    "    all_list.append(abs(data))\n",
    "    if (data >= 0):\n",
    "        only_list.append(data)\n",
    "print (\"All positive element list: \",all_list)\n",
    "print (\"Only positive element list: \",only_list)\n",
    "print (\"End of the program...\")"
   ]
  },
  {
   "cell_type": "code",
   "execution_count": null,
   "metadata": {},
   "outputs": [],
   "source": [
    "mystr = str(100)\n",
    "print (mystr)\n",
    "del mystr\n",
    "print (mystr)"
   ]
  },
  {
   "cell_type": "code",
   "execution_count": null,
   "metadata": {},
   "outputs": [],
   "source": [
    "# dealing with tuple...\n",
    "# unlike list tuple is immutable i.e. can not be changed after being\n",
    "# created\n",
    "my_tuple = (1,2,\"amit\",\"male\",34)\n",
    "print (my_tuple)\n",
    "pi_tuple = (3,1,4,1,5,9)\n",
    "print (pi_tuple)"
   ]
  },
  {
   "cell_type": "code",
   "execution_count": null,
   "metadata": {},
   "outputs": [],
   "source": [
    "print (pi_tuple[2])\n",
    "pi_tuple[2] = 9"
   ]
  },
  {
   "cell_type": "code",
   "execution_count": null,
   "metadata": {},
   "outputs": [],
   "source": [
    "print (pi_tuple)\n",
    "print (len(pi_tuple),max(pi_tuple),min(pi_tuple),sum(pi_tuple))"
   ]
  },
  {
   "cell_type": "code",
   "execution_count": null,
   "metadata": {},
   "outputs": [],
   "source": [
    "pi_list = list(pi_tuple)\n",
    "print (pi_list)\n",
    "pi_list[2] = 9\n",
    "print (pi_list)\n",
    "pi_tuple = tuple(pi_list)\n",
    "print (pi_tuple)"
   ]
  },
  {
   "cell_type": "code",
   "execution_count": null,
   "metadata": {},
   "outputs": [],
   "source": [
    "# dealing with dictionary or maps\n",
    "dict_fruit = {\"banana\":\"yellow\",\"apple\":\"red\",\"guava\":\"green\",\n",
    "             \"grape\":\"black\",\"orange\":\"orange\"}\n",
    "print (dict_fruit)\n",
    "print (dict_fruit.keys())\n",
    "print (dict_fruit.values())\n",
    "print (dict_fruit.items())"
   ]
  },
  {
   "cell_type": "code",
   "execution_count": null,
   "metadata": {},
   "outputs": [],
   "source": [
    "print (dict_fruit[\"guava\"])\n",
    "print (len(dict_fruit))\n",
    "print (dict_fruit)\n",
    "dict_fruit[\"pineapple\"] = \"yellow\"\n",
    "print (dict_fruit)\n",
    "dict_fruit[\"grape\"] = \"green\"\n",
    "print (dict_fruit)"
   ]
  },
  {
   "cell_type": "code",
   "execution_count": null,
   "metadata": {},
   "outputs": [],
   "source": [
    "print (dict_fruit)\n",
    "for data in dict_fruit:\n",
    "    print (data, end = \" - \")\n",
    "    print (dict_fruit[data])"
   ]
  },
  {
   "cell_type": "code",
   "execution_count": null,
   "metadata": {},
   "outputs": [],
   "source": [
    "print (dict_fruit[\"grape\"])\n",
    "print (dict_fruit.get(\"grape\"))"
   ]
  },
  {
   "cell_type": "code",
   "execution_count": null,
   "metadata": {},
   "outputs": [],
   "source": [
    "print (dict_fruit)\n",
    "del dict_fruit[\"pineapple\"]\n",
    "print (dict_fruit)"
   ]
  },
  {
   "cell_type": "code",
   "execution_count": null,
   "metadata": {},
   "outputs": [],
   "source": [
    "print (dict_fruit)\n",
    "del dict_fruit\n",
    "print (dict_fruit)"
   ]
  },
  {
   "cell_type": "code",
   "execution_count": null,
   "metadata": {},
   "outputs": [],
   "source": [
    "dict_fruit = {\"banana\":\"yellow\",\"apple\":\"red\",\"guava\":\"green\",\n",
    "             \"grape\":\"black\",\"orange\":\"orange\"}\n",
    "dict_fruit = {}\n",
    "# dict_fruit_temp = dict_fruit\n",
    "# print (dict_fruit, dict_fruit_temp)\n",
    "# for data in dict_fruit_temp.keys():\n",
    "#     print (data)\n",
    "#     del dict_fruit[data]\n",
    "# print (dict_fruit)"
   ]
  },
  {
   "cell_type": "code",
   "execution_count": null,
   "metadata": {},
   "outputs": [],
   "source": [
    "dict_fruit = {\"banana\":\"yellow\",\"apple\":\"red\",\"guava\":\"green\",\n",
    "             \"grape\":\"black\",\"orange\":\"orange\"}\n",
    "print (dict_fruit)\n",
    "dict_fruit.clear()\n",
    "print (dict_fruit)"
   ]
  },
  {
   "cell_type": "code",
   "execution_count": null,
   "metadata": {},
   "outputs": [],
   "source": [
    "# dealing with set\n",
    "# creating an empty set\n",
    "empty_set = set()\n",
    "empty_set"
   ]
  },
  {
   "cell_type": "code",
   "execution_count": null,
   "metadata": {},
   "outputs": [],
   "source": [
    "# creating non-empty set\n",
    "# creating set directly\n",
    "languages = {\"python\",\"r\",\"java\"}\n",
    "# creating a set from a list\n",
    "snakes = set([\"cobra\",\"viper\",\"python\"])\n",
    "print (languages)\n",
    "print (snakes)"
   ]
  },
  {
   "cell_type": "code",
   "execution_count": null,
   "metadata": {},
   "outputs": [],
   "source": [
    "print (len(languages),len(snakes))"
   ]
  },
  {
   "cell_type": "code",
   "execution_count": null,
   "metadata": {},
   "outputs": [],
   "source": [
    "# performing set intersection operation...\n",
    "print (languages & snakes)\n",
    "print (languages.intersection(snakes))"
   ]
  },
  {
   "cell_type": "code",
   "execution_count": null,
   "metadata": {},
   "outputs": [],
   "source": [
    "# performing set union operation...\n",
    "print (languages | snakes)\n",
    "print (languages.union(snakes))"
   ]
  },
  {
   "cell_type": "code",
   "execution_count": null,
   "metadata": {},
   "outputs": [],
   "source": [
    "# performing set difference operation...\n",
    "print (languages - snakes)\n",
    "print (languages.difference(snakes))\n",
    "print (snakes - languages)\n",
    "print (snakes.difference(languages))"
   ]
  },
  {
   "cell_type": "code",
   "execution_count": null,
   "metadata": {},
   "outputs": [],
   "source": [
    "# performing symmetric set difference operation...\n",
    "print (languages.symmetric_difference(snakes))"
   ]
  },
  {
   "cell_type": "code",
   "execution_count": null,
   "metadata": {},
   "outputs": [],
   "source": [
    "print (languages)\n",
    "languages.add(\"r\")\n",
    "print (languages)\n",
    "languages.add(\"c++\")\n",
    "print (languages)"
   ]
  },
  {
   "cell_type": "code",
   "execution_count": null,
   "metadata": {},
   "outputs": [],
   "source": [
    "print (languages)\n",
    "try:\n",
    "    languages.remove(\"c++\")\n",
    "    print (languages)\n",
    "    languages.remove(\"prolog\")\n",
    "    print (languages)\n",
    "except KeyError as ke:\n",
    "    print (\"Error message:\",ke)"
   ]
  },
  {
   "cell_type": "code",
   "execution_count": null,
   "metadata": {},
   "outputs": [],
   "source": [
    "languages.discard(\"c++\")"
   ]
  },
  {
   "cell_type": "code",
   "execution_count": null,
   "metadata": {},
   "outputs": [],
   "source": [
    "print (languages)\n",
    "print (languages.pop())\n",
    "print (languages)"
   ]
  },
  {
   "cell_type": "code",
   "execution_count": null,
   "metadata": {},
   "outputs": [],
   "source": [
    "print (languages)\n",
    "print (languages.pop())\n",
    "print (languages)"
   ]
  },
  {
   "cell_type": "code",
   "execution_count": null,
   "metadata": {},
   "outputs": [],
   "source": [
    "languages = {\"python\",\"r\",\"java\",\"c++\"}\n",
    "print (languages)\n",
    "for data in languages:\n",
    "    print (data)\n",
    "print (languages.pop())\n",
    "print (languages.pop())\n",
    "print (languages.pop())\n",
    "print (languages.pop())\n",
    "print (languages.pop())"
   ]
  },
  {
   "cell_type": "code",
   "execution_count": null,
   "metadata": {},
   "outputs": [],
   "source": [
    "languages = {\"python\",\"r\",\"java\",\"c++\"}\n",
    "print (languages)\n",
    "languages.clear()\n",
    "print (languages)"
   ]
  },
  {
   "cell_type": "code",
   "execution_count": null,
   "metadata": {},
   "outputs": [],
   "source": [
    "languages = {\"python\",\"r\",\"java\",\"c++\"}\n",
    "print (languages)\n",
    "languages.add(\"kotlin\")\n",
    "languages.add(\"perl\")\n",
    "print (languages)\n",
    "languages.update(\"go\",\"android\")\n",
    "print (languages)"
   ]
  },
  {
   "cell_type": "code",
   "execution_count": null,
   "metadata": {},
   "outputs": [],
   "source": [
    "# Class Assignment:\n",
    "# From a given list get a descending order sorted distinct element list\n",
    "# Input: [22, 44, 44, 11, 22, 44, 33, 44]\n",
    "# Output: [44, 33, 22, 11]"
   ]
  },
  {
   "cell_type": "code",
   "execution_count": null,
   "metadata": {},
   "outputs": [],
   "source": [
    "myList = [22, 44, 44, 11, 22, 44, 33, 44]\n",
    "print (myList)\n",
    "mySet = set(myList)\n",
    "print (mySet)\n",
    "myList = list(mySet)\n",
    "print (myList)\n",
    "myList.sort()\n",
    "print (myList)\n",
    "myList.reverse()\n",
    "print (myList)"
   ]
  },
  {
   "cell_type": "code",
   "execution_count": null,
   "metadata": {},
   "outputs": [],
   "source": [
    "# dealing with exception\n",
    "flag = True\n",
    "while (flag):\n",
    "    try:\n",
    "        num1 = int(input(\"Enter first number: \"))\n",
    "        num2 = int(input(\"Enter second number: \"))\n",
    "        quot = num1 / num2\n",
    "        print (\"So {} / {} = {}...\".format(num1,num2,quot))\n",
    "    # except ArithmeticError as ae:\n",
    "    except ZeroDivisionError as ae:\n",
    "        print (\"This statement is raising an exception...\")\n",
    "        print (\"Error message: \",ae)\n",
    "    except ValueError as ve:\n",
    "        print (\"String inputs are not allowed...\")\n",
    "        print (\"Error message: \",ve)\n",
    "    except:\n",
    "        print (\"Some error is hapenning...\")\n",
    "    else:\n",
    "        print (\"Smooth execution...\")\n",
    "        flag = False\n",
    "print (\"End of the program...\")"
   ]
  },
  {
   "cell_type": "code",
   "execution_count": null,
   "metadata": {},
   "outputs": [],
   "source": [
    "try:\n",
    "    num1 = int(input(\"Enter first number: \"))\n",
    "    num2 = int(input(\"Enter second number: \"))\n",
    "    a = num1 / num2\n",
    "    print (a)\n",
    "except ArithmeticError as ae:\n",
    "    print (\"Division by ZERO is Illegal...!!!\")\n",
    "else:\n",
    "    print (\"Smooth execution...\")\n",
    "finally:\n",
    "    print (\"Welcome\")\n",
    "\n",
    "print (\"End of the program...\")"
   ]
  },
  {
   "cell_type": "code",
   "execution_count": null,
   "metadata": {},
   "outputs": [],
   "source": [
    "try:\n",
    "    num1 = int(input(\"Please enter a number between 10 to 20 --> \"))\n",
    "    if (num1 < 10):\n",
    "        raise NameError(\"Entered number is below 10...\")\n",
    "    elif (num1 > 20):\n",
    "        raise NameError(\"Entered number is above 20...\")\n",
    "    print (\"Entered number is\",num1)\n",
    "except NameError as ne:\n",
    "    print (\"Error message :\",ne)\n",
    "print (\"End of the program...\")"
   ]
  },
  {
   "cell_type": "code",
   "execution_count": null,
   "metadata": {},
   "outputs": [],
   "source": [
    "a = 100                  # 100 = 64 + 32 + 4 = 0 1 1 0  0 1 0 0\n",
    "b = 65                   # 65 = 64 + 1       = 0 1 0 0  0 0 0 1\n",
    "                         #                     ----------------\n",
    "                         #             a ^ b = 0 0 1 0  0 1 0 1 => 37\n",
    "                         #             a | b = 0 1 1 0  0 1 0 1 => 101\n",
    "                         #             a & b = 0 1 0 0  0 0 0 0 => 64\n",
    "print (a, b, a & b, a | b, a ^ b, ~a)"
   ]
  },
  {
   "cell_type": "code",
   "execution_count": null,
   "metadata": {},
   "outputs": [],
   "source": [
    "# dealing with file I/O\n",
    "# writing something on the file\n",
    "test_file = open(\"student.txt\",\"wb\")\n",
    "print (\"File mode:\",test_file.mode)\n",
    "print (\"File name:\",test_file.name)\n",
    "test_file.write(bytes(\"Student Name-1,\\n\",\"UTF-8\"))\n",
    "test_file.close()"
   ]
  },
  {
   "cell_type": "code",
   "execution_count": null,
   "metadata": {},
   "outputs": [],
   "source": [
    "# reading content from the data file...\n",
    "test_file = open(\"student.txt\",\"r+\")\n",
    "print (\"File mode:\",test_file.mode)\n",
    "print (\"File name:\",test_file.name)\n",
    "file_str = test_file.read()\n",
    "print (file_str)\n",
    "file_str = file_str.strip().rstrip(\",\")\n",
    "print (file_str)\n",
    "test_file.close()"
   ]
  },
  {
   "cell_type": "code",
   "execution_count": null,
   "metadata": {},
   "outputs": [],
   "source": [
    "num = int(input(\"Please enter the number of names --> \"))\n",
    "test_file = open(\"employee.txt\",\"wb\")\n",
    "for i in range(0,num):\n",
    "    emp_name = input(\"Enter employee name no.\"+str(i)+\"-->\")\n",
    "    test_file.write(bytes(emp_name+\",\",\"UTF-8\"))\n",
    "test_file.close()\n",
    "test_file = open(\"employee.txt\",\"r+\")\n",
    "emp_list_str = test_file.read()\n",
    "test_file.close()\n",
    "emp_list_str.strip().rstrip(\",\")\n",
    "print (emp_list_str,len(emp_list_str))\n",
    "emp_list_str = emp_list_str[:len(emp_list_str)-1]\n",
    "print (emp_list_str,len(emp_list_str))\n",
    "emp_list = emp_list_str.split(\",\")\n",
    "print (emp_list)\n",
    "for emp_name in emp_list:\n",
    "    print (\"Employee Name: \",emp_name)\n",
    "print (\"End of the program...\")"
   ]
  },
  {
   "cell_type": "code",
   "execution_count": null,
   "metadata": {},
   "outputs": [],
   "source": [
    "for i in [11,22,33,44]:\n",
    "    if (i is 33):\n",
    "        pass\n",
    "        print (\"print i =\",i)\n",
    "print (\"End of the program...\")"
   ]
  },
  {
   "cell_type": "code",
   "execution_count": null,
   "metadata": {},
   "outputs": [],
   "source": [
    "# dealing with Object Oriented Programming in Python\n",
    "class myClass:\n",
    "    __class_var1 = 111\n",
    "    __class_var2 = 222\n",
    "    def __init__(self,data1,data2):\n",
    "        print (\"Constructor method is executing...\")\n",
    "        self.__inst_var1 = data1\n",
    "        self.__inst_var2 = data2\n",
    "    def updateCV(self,value1,value2):\n",
    "        myClass.__class_var1 = value1\n",
    "        myClass.__class_var2 = value2\n",
    "    def display(self):\n",
    "        print (\"Instance variable values are {} and {}\".\\\n",
    "               format(self.__inst_var1,self.__inst_var2))\n",
    "        print (\"Class variable values are {} and {}\".\\\n",
    "               format(myClass.__class_var1,myClass.__class_var2))\n",
    "ob1 = myClass(100,200)\n",
    "ob1.display()\n",
    "ob1.updateCV(123,456)\n",
    "ob2 = myClass(400,500)\n",
    "ob2.display()"
   ]
  },
  {
   "cell_type": "code",
   "execution_count": null,
   "metadata": {},
   "outputs": [],
   "source": [
    "class Animal:\n",
    "    def __init__(self,name,height,weight,sound):\n",
    "        self.__name = name\n",
    "        self.__height = height\n",
    "        self.__weight = weight\n",
    "        self.__sound = sound\n",
    "    def get_name(self):\n",
    "        return self.__name\n",
    "    def set_name(self,name):\n",
    "        self.__name = name\n",
    "    def get_height(self):\n",
    "        return self.__height\n",
    "    def set_height(self,height):\n",
    "        self.__height = height\n",
    "    def get_weight(self):\n",
    "        return self.__weight\n",
    "    def set_weight(self,weight):\n",
    "        self.__weight = weight\n",
    "    def get_sound(self):\n",
    "        return self.__sound\n",
    "    def set_sound(self,sound):\n",
    "        self.__sound = sound\n",
    "    def get_type(self):\n",
    "        print (\"I am Animal...\")\n",
    "    def displayAnimal(self):\n",
    "        return \"{} is {} cm tall and {} KG. and says {}...\".\\\n",
    "        format(self.__name,self.__height,self.__weight,self.__sound)\n",
    "cat = Animal(\"White Cat\",33,10,\"Meow\")\n",
    "print(cat.displayAnimal())\n",
    "cat.get_type()\n",
    "print (\"Name of the animal is\",cat.get_name())"
   ]
  },
  {
   "cell_type": "code",
   "execution_count": null,
   "metadata": {},
   "outputs": [],
   "source": [
    "# dealing with inheritance...\n",
    "class Dog(Animal):\n",
    "    def __init__(self,name,height,weight,sound,owner):\n",
    "        self.__owner = owner\n",
    "        super(Dog,self).__init__(name,height,weight,sound)\n",
    "    def get_owner(self):\n",
    "        return self.__owner\n",
    "    def set_owner(self,owner):\n",
    "        self.__owner = owner\n",
    "    def get_type(self):\n",
    "        print (\"I am Dog...\")\n",
    "    def displayDog(self):\n",
    "        return (\"{} is {} cm tall and {} KG. says {} and owner is {}\".\\\n",
    "        format(self.get_name(),self.get_height(),self.get_weight(),\n",
    "               self.get_sound(),self.get_owner()))\n",
    "spot = Dog(\"Spot\",53,27,\"Ruff\",\"Miller\")\n",
    "print (spot.displayDog())\n",
    "spot.get_type()"
   ]
  },
  {
   "cell_type": "code",
   "execution_count": null,
   "metadata": {},
   "outputs": [],
   "source": [
    "# dealing with database\n",
    "# creation of database and table\n",
    "import sqlite3\n",
    "# use database if it exists, otherwise create a new one\n",
    "connection = sqlite3.connect(\"office_database.db\")\n",
    "print (\"Connected with the database...\")\n",
    "# now create employee table, employee(emp_id,emp_name,city,salary)\n",
    "sql = '''\n",
    "CREATE TABLE employee (\n",
    "emp_id INTEGER PRIMARY KEY,\n",
    "emp_name TEXT,\n",
    "city TEXT, salary REAL\n",
    ");\n",
    "'''\n",
    "try:      # create the table under the database if it does not exist...\n",
    "    connection.execute(sql)\n",
    "    print (\"Table created...\")\n",
    "except:\n",
    "    pass"
   ]
  },
  {
   "cell_type": "code",
   "execution_count": null,
   "metadata": {},
   "outputs": [],
   "source": [
    "# inserting records from the csv file to the database table\n",
    "import csv\n",
    "# sql to insert records into employee table\n",
    "sql=\"INSERT INTO employee VALUES({emp_id},'{name}','{city}','{salary}');\"\n",
    "# now reading rows from the csv file and storing then on to table\n",
    "# here , is the delimiter\n",
    "with open(\"emp_data.csv\") as data_file:\n",
    "    csv_reader = csv.reader(data_file)\n",
    "    for row in csv_reader:\n",
    "        connection.execute(sql.format(emp_id=row[0],name=row[1],\n",
    "                                     city=row[2],salary=row[3]))\n",
    "connection.commit()   # commit after inserting data\n",
    "print (\"Data inserted...\")"
   ]
  },
  {
   "cell_type": "code",
   "execution_count": null,
   "metadata": {},
   "outputs": [],
   "source": [
    "# Retrieving data from the database table\n",
    "sql = \"SELECT * FROM employee;\"\n",
    "table = connection.execute(sql)\n",
    "for row in table:\n",
    "    print (\"Emp ID: \"+str(row[0])+\" Name: \"+str(row[1])+\n",
    "            \" City: \"+str(row[2])+\" and Salary: \"+str(row[3]))\n"
   ]
  },
  {
   "cell_type": "code",
   "execution_count": null,
   "metadata": {},
   "outputs": [],
   "source": [
    "# Retrieving data from the database table for those records where salary\n",
    "# is greater than 30000\n",
    "sql = \"SELECT * FROM employee WHERE salary > 30000;\"\n",
    "table = connection.execute(sql)\n",
    "for row in table:\n",
    "    print (\"Emp ID: \"+str(row[0])+\" Name: \"+str(row[1])+\n",
    "            \" City: \"+str(row[2])+\" and Salary: \"+str(row[3]))"
   ]
  },
  {
   "cell_type": "code",
   "execution_count": null,
   "metadata": {},
   "outputs": [],
   "source": [
    "# updating records\n",
    "# Update salary of employees to 30000 where city is chennai\n",
    "sql=\"UPDATE employee SET salary = 30000 WHERE city = 'Chennai';\"\n",
    "table = connection.execute(sql)\n",
    "connection.commit()\n",
    "# Retrieving data from the database table after update...\n",
    "sql = \"SELECT * FROM employee;\"\n",
    "table = connection.execute(sql)\n",
    "for row in table:\n",
    "    print (\"Emp ID: \"+str(row[0])+\" Name: \"+str(row[1])+\n",
    "            \" City: \"+str(row[2])+\" and Salary: \"+str(row[3]))"
   ]
  },
  {
   "cell_type": "code",
   "execution_count": null,
   "metadata": {},
   "outputs": [],
   "source": [
    "# deleting records of the table\n",
    "sql = \"DELETE FROM employee WHERE city = 'Kolkata';\"\n",
    "table = connection.execute(sql)\n",
    "connection.commit()\n",
    "# Retrieving data from the database table\n",
    "sql = \"SELECT * FROM employee;\"\n",
    "table = connection.execute(sql)\n",
    "for row in table:\n",
    "    print (\"Emp ID: \"+str(row[0])+\" Name: \"+str(row[1])+\n",
    "            \" City: \"+str(row[2])+\" and Salary: \"+str(row[3]))\n",
    "connection.close()"
   ]
  },
  {
   "cell_type": "code",
   "execution_count": null,
   "metadata": {},
   "outputs": [],
   "source": [
    "def enum(**enums):\n",
    "    return type('Enum', (), enums)\n",
    " \n",
    "Numbers = enum(ONE=1,TWO=2, THREE=3, FOUR=4, FIVE=5, SIX=6)\n",
    "print(Numbers.ONE)\n",
    "print (Numbers.SIX)"
   ]
  },
  {
   "cell_type": "code",
   "execution_count": null,
   "metadata": {},
   "outputs": [],
   "source": []
  },
  {
   "cell_type": "code",
   "execution_count": null,
   "metadata": {},
   "outputs": [],
   "source": [
    "num = int (input(\"Enter number of terms...\"))\n",
    "my_list = []\n",
    "for i in range(0,num):\n",
    "    data = int(input(\"Enter data --> \"))\n",
    "    my_list.append(data)\n",
    "maxdata = max(my_list)\n",
    "mindata = min(my_list)\n",
    "print (my_list,maxdata,mindata)\n",
    "total = 0\n",
    "count = 0\n",
    "for data in my_list:\n",
    "    if (data != maxdata and data != mindata):\n",
    "        total = total + data\n",
    "        count += 1\n",
    "print (total,count)\n",
    "print (\"So the required average = \",total/count)"
   ]
  },
  {
   "cell_type": "code",
   "execution_count": null,
   "metadata": {},
   "outputs": [],
   "source": []
  },
  {
   "cell_type": "code",
   "execution_count": null,
   "metadata": {},
   "outputs": [],
   "source": []
  },
  {
   "cell_type": "code",
   "execution_count": null,
   "metadata": {},
   "outputs": [],
   "source": []
  },
  {
   "cell_type": "code",
   "execution_count": null,
   "metadata": {},
   "outputs": [],
   "source": []
  },
  {
   "cell_type": "code",
   "execution_count": null,
   "metadata": {},
   "outputs": [],
   "source": []
  },
  {
   "cell_type": "code",
   "execution_count": null,
   "metadata": {},
   "outputs": [],
   "source": []
  },
  {
   "cell_type": "code",
   "execution_count": null,
   "metadata": {},
   "outputs": [],
   "source": []
  },
  {
   "cell_type": "code",
   "execution_count": null,
   "metadata": {},
   "outputs": [],
   "source": []
  },
  {
   "cell_type": "code",
   "execution_count": null,
   "metadata": {},
   "outputs": [],
   "source": []
  }
 ],
 "metadata": {
  "kernelspec": {
   "display_name": "Python 3",
   "language": "python",
   "name": "python3"
  },
  "language_info": {
   "codemirror_mode": {
    "name": "ipython",
    "version": 3
   },
   "file_extension": ".py",
   "mimetype": "text/x-python",
   "name": "python",
   "nbconvert_exporter": "python",
   "pygments_lexer": "ipython3",
   "version": "3.7.3"
  }
 },
 "nbformat": 4,
 "nbformat_minor": 2
}
